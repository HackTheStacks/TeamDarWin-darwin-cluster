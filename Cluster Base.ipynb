{
 "cells": [
  {
   "cell_type": "code",
   "execution_count": 1,
   "metadata": {
    "collapsed": true
   },
   "outputs": [],
   "source": [
    "import pandas as pd\n",
    "import numpy as np"
   ]
  },
  {
   "cell_type": "code",
   "execution_count": 6,
   "metadata": {
    "collapsed": false
   },
   "outputs": [],
   "source": [
    "random_frame = pd.DataFrame(np.random.randn(500, 2), columns=[\"x\", \"y\"])"
   ]
  },
  {
   "cell_type": "code",
   "execution_count": 21,
   "metadata": {
    "collapsed": false
   },
   "outputs": [
    {
     "data": {
      "text/plain": [
       "array([5, 3, 9, 3, 0, 6, 3, 3, 1, 2, 1, 2, 2, 3, 7, 8, 4, 3, 7, 4, 0, 2, 2,\n",
       "       8, 0, 5, 0, 8, 8, 9, 1, 7, 5, 6, 1, 0, 2, 2, 0, 1, 1, 2, 4, 4, 0, 8,\n",
       "       0, 9, 7, 8, 2, 4, 7, 0, 4, 1, 1, 8, 2, 0, 1, 8, 5, 9, 1, 0, 5, 8, 2,\n",
       "       8, 4, 0, 2, 0, 0, 5, 0, 3, 2, 5, 6, 0, 2, 9, 8, 0, 0, 7, 0, 3, 2, 4,\n",
       "       0, 0, 0, 0, 2, 8, 9, 7, 0, 5, 0, 6, 0, 4, 7, 0, 0, 3, 3, 1, 8, 0, 5,\n",
       "       6, 5, 0, 1, 0, 7, 5, 2, 8, 2, 8, 4, 5, 0, 1, 1, 1, 6, 5, 1, 8, 8, 4,\n",
       "       6, 3, 5, 2, 2, 8, 5, 0, 0, 2, 9, 3, 0, 8, 9, 2, 3, 9, 2, 8, 9, 0, 3,\n",
       "       0, 5, 5, 5, 0, 2, 1, 2, 0, 3, 0, 5, 8, 6, 8, 2, 6, 4, 3, 0, 4, 2, 3,\n",
       "       8, 6, 8, 8, 8, 4, 7, 5, 6, 8, 5, 6, 0, 9, 4, 3, 0, 5, 7, 6, 5, 7, 8,\n",
       "       8, 6, 8, 1, 2, 0, 3, 1, 4, 0, 2, 5, 0, 1, 4, 0, 8, 8, 0, 8, 3, 8, 4,\n",
       "       5, 0, 7, 0, 3, 8, 0, 1, 6, 4, 0, 8, 2, 0, 8, 8, 6, 3, 4, 7, 5, 3, 5,\n",
       "       6, 5, 2, 3, 3, 9, 0, 2, 4, 1, 5, 8, 0, 2, 0, 1, 2, 1, 5, 8, 2, 3, 7,\n",
       "       0, 2, 3, 3, 8, 8, 6, 0, 3, 3, 6, 2, 9, 4, 4, 7, 8, 3, 5, 3, 5, 8, 5,\n",
       "       5, 2, 8, 1, 2, 6, 9, 4, 5, 4, 6, 9, 0, 2, 2, 0, 0, 8, 8, 1, 0, 6, 0,\n",
       "       4, 0, 2, 2, 0, 9, 8, 9, 1, 8, 8, 4, 3, 8, 4, 2, 0, 2, 4, 2, 2, 2, 6,\n",
       "       7, 5, 4, 0, 2, 2, 4, 8, 5, 2, 6, 2, 2, 1, 0, 1, 8, 8, 8, 1, 0, 5, 1,\n",
       "       1, 8, 0, 2, 2, 2, 3, 0, 4, 4, 3, 2, 6, 5, 9, 0, 0, 4, 8, 4, 3, 7, 7,\n",
       "       1, 6, 8, 2, 6, 9, 4, 4, 4, 5, 3, 6, 3, 1, 9, 6, 2, 2, 2, 2, 5, 3, 8,\n",
       "       2, 6, 8, 2, 1, 7, 2, 7, 0, 8, 5, 5, 4, 3, 0, 2, 0, 2, 9, 1, 0, 3, 0,\n",
       "       5, 0, 4, 6, 4, 5, 6, 5, 4, 9, 2, 5, 6, 2, 2, 8, 8, 2, 5, 8, 8, 8, 1,\n",
       "       1, 8, 2, 0, 2, 5, 4, 2, 3, 2, 8, 8, 1, 3, 6, 9, 4, 0, 0, 9, 8, 0, 5,\n",
       "       5, 1, 2, 8, 8, 0, 6, 5, 0, 5, 4, 2, 1, 0, 3, 2, 0], dtype=int32)"
      ]
     },
     "execution_count": 21,
     "metadata": {},
     "output_type": "execute_result"
    }
   ],
   "source": [
    "from sklearn.cluster import KMeans\n",
    "\n",
    "scaled = random_frame / random_frame.max()\n",
    "kmeans = KMeans(10)\n",
    "kmeans.fit(scaled)\n",
    "kmeans.predict(scaled)"
   ]
  }
 ],
 "metadata": {
  "kernelspec": {
   "display_name": "Python [sci]",
   "language": "python",
   "name": "Python [sci]"
  },
  "language_info": {
   "codemirror_mode": {
    "name": "ipython",
    "version": 3
   },
   "file_extension": ".py",
   "mimetype": "text/x-python",
   "name": "python",
   "nbconvert_exporter": "python",
   "pygments_lexer": "ipython3",
   "version": "3.5.2"
  }
 },
 "nbformat": 4,
 "nbformat_minor": 0
}
