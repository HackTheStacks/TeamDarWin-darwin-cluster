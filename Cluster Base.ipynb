{
 "cells": [
  {
   "cell_type": "code",
   "execution_count": 1,
   "metadata": {
    "collapsed": true
   },
   "outputs": [],
   "source": [
    "import pandas as pd\n",
    "import numpy as np"
   ]
  },
  {
   "cell_type": "code",
   "execution_count": 6,
   "metadata": {
    "collapsed": false
   },
   "outputs": [],
   "source": [
    "random_frame = pd.DataFrame(np.random.randn(500, 2), columns=[\"x\", \"y\"])"
   ]
  },
  {
   "cell_type": "code",
   "execution_count": 15,
   "metadata": {
    "collapsed": false
   },
   "outputs": [
    {
     "data": {
      "text/plain": [
       "array([4, 0, 3, 0, 1, 9, 0, 0, 7, 5, 7, 5, 5, 0, 6, 2, 8, 0, 6, 2, 1, 5, 5,\n",
       "       7, 1, 4, 1, 2, 2, 3, 7, 6, 4, 9, 3, 1, 5, 5, 1, 7, 7, 5, 8, 8, 1, 2,\n",
       "       1, 3, 6, 2, 5, 8, 6, 1, 8, 7, 7, 2, 5, 1, 7, 2, 4, 3, 7, 1, 4, 2, 5,\n",
       "       2, 8, 1, 5, 1, 1, 4, 1, 0, 5, 4, 9, 1, 5, 3, 2, 1, 1, 6, 1, 0, 5, 8,\n",
       "       1, 1, 1, 1, 5, 2, 3, 6, 1, 4, 1, 9, 1, 8, 6, 1, 1, 0, 0, 7, 2, 1, 4,\n",
       "       9, 4, 1, 7, 1, 6, 4, 5, 2, 5, 2, 8, 4, 1, 7, 7, 7, 9, 4, 7, 2, 2, 8,\n",
       "       9, 0, 4, 5, 5, 2, 4, 1, 1, 5, 3, 0, 1, 2, 3, 5, 0, 3, 5, 2, 3, 1, 0,\n",
       "       1, 4, 4, 4, 1, 5, 7, 5, 1, 0, 1, 4, 2, 9, 2, 5, 9, 8, 0, 1, 8, 5, 0,\n",
       "       2, 9, 2, 2, 7, 8, 6, 4, 9, 2, 4, 9, 1, 3, 8, 0, 1, 4, 6, 9, 4, 6, 2,\n",
       "       2, 7, 2, 7, 5, 1, 0, 7, 8, 1, 5, 4, 1, 2, 8, 1, 2, 2, 1, 2, 9, 2, 8,\n",
       "       4, 1, 6, 1, 0, 2, 1, 3, 9, 8, 1, 2, 5, 1, 2, 2, 9, 0, 8, 6, 4, 0, 4,\n",
       "       7, 4, 5, 0, 0, 3, 1, 5, 8, 7, 4, 2, 1, 5, 1, 7, 5, 2, 4, 2, 5, 0, 6,\n",
       "       1, 5, 0, 0, 2, 2, 9, 1, 0, 0, 9, 5, 3, 8, 8, 6, 2, 0, 4, 0, 4, 2, 4,\n",
       "       4, 5, 2, 7, 5, 9, 3, 8, 4, 8, 9, 3, 1, 5, 5, 1, 1, 2, 2, 7, 1, 9, 1,\n",
       "       8, 1, 5, 5, 1, 3, 2, 3, 7, 2, 2, 8, 0, 2, 8, 5, 1, 5, 8, 5, 5, 5, 9,\n",
       "       6, 4, 8, 1, 5, 5, 8, 2, 4, 5, 9, 5, 5, 7, 1, 3, 2, 2, 2, 7, 1, 4, 7,\n",
       "       7, 2, 1, 5, 5, 5, 0, 1, 8, 8, 9, 5, 7, 4, 3, 1, 5, 8, 2, 8, 0, 6, 6,\n",
       "       7, 9, 2, 5, 7, 3, 8, 8, 8, 4, 0, 5, 0, 7, 3, 9, 5, 5, 9, 5, 4, 0, 2,\n",
       "       5, 9, 2, 5, 7, 6, 5, 6, 1, 2, 4, 4, 8, 0, 1, 5, 1, 5, 3, 7, 1, 0, 1,\n",
       "       4, 1, 8, 9, 8, 4, 7, 4, 8, 3, 5, 4, 9, 5, 5, 2, 2, 5, 6, 2, 2, 2, 7,\n",
       "       7, 2, 5, 1, 5, 4, 8, 5, 0, 5, 2, 2, 2, 0, 7, 3, 8, 1, 1, 3, 2, 1, 4,\n",
       "       4, 3, 5, 2, 2, 1, 9, 4, 1, 4, 8, 5, 7, 1, 0, 5, 1], dtype=int32)"
      ]
     },
     "execution_count": 15,
     "metadata": {},
     "output_type": "execute_result"
    }
   ],
   "source": [
    "from sklearn.cluster import KMeans\n",
    "\n",
    "scaled = random_frame / random_frame.max()\n",
    "kmeans = KMeans(10)\n",
    "kmeans.fit(scaled)\n",
    "kmeans.predict(scaled)"
   ]
  }
 ],
 "metadata": {
  "kernelspec": {
   "display_name": "Python [sci]",
   "language": "python",
   "name": "Python [sci]"
  },
  "language_info": {
   "codemirror_mode": {
    "name": "ipython",
    "version": 3
   },
   "file_extension": ".py",
   "mimetype": "text/x-python",
   "name": "python",
   "nbconvert_exporter": "python",
   "pygments_lexer": "ipython3",
   "version": "3.5.2"
  }
 },
 "nbformat": 4,
 "nbformat_minor": 0
}
