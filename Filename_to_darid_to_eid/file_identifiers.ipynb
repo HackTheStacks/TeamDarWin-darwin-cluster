{
 "cells": [
  {
   "cell_type": "code",
   "execution_count": 138,
   "metadata": {
    "collapsed": true
   },
   "outputs": [],
   "source": [
    "import os\n",
    "import pandas as pd"
   ]
  },
  {
   "cell_type": "code",
   "execution_count": 150,
   "metadata": {
    "collapsed": true
   },
   "outputs": [],
   "source": [
    "image_names_raw = open('dar_all_jpg_filenames.txt').read().split('\\n')\n",
    "image_names = set()\n",
    "\n",
    "for name in image_names_raw:\n",
    "    name = name.lower()\n",
    "    if name.endswith('.jpg'):\n",
    "        image_names.add(name.split('/')[-1])"
   ]
  },
  {
   "cell_type": "code",
   "execution_count": 35,
   "metadata": {
    "collapsed": false,
    "scrolled": true
   },
   "outputs": [],
   "source": [
    "csvs = []\n",
    "\n",
    "for directory in os.walk('DAR/'):\n",
    "    dirpath, _, files = directory\n",
    "    for f in files:\n",
    "        try:\n",
    "            f = f.strip()\n",
    "            if f.endswith('.csv') and 'MS-DAR-' in f and not f.startswith('.'):\n",
    "                csvs.append(os.path.join(dirpath, f))\n",
    "        except Error as e:\n",
    "            print(e, f)\n",
    "            break"
   ]
  },
  {
   "cell_type": "code",
   "execution_count": 47,
   "metadata": {
    "collapsed": false
   },
   "outputs": [],
   "source": [
    "good_csvs = []\n",
    "for csv in csvs:\n",
    "    \n",
    "    with open(csv, encoding='latin8') as f:\n",
    "        header = f.readline()\n",
    "        if len(header) > 500:\n",
    "            print(f + \" is fucked\")\n",
    "\n",
    "        if 'filename' in header.lower():\n",
    "            good_csvs.append(csv)"
   ]
  },
  {
   "cell_type": "code",
   "execution_count": 52,
   "metadata": {
    "collapsed": false
   },
   "outputs": [],
   "source": [
    "dfs = []\n",
    "for csv in good_csvs:\n",
    "    dfs.append(pd.read_csv(csv, encoding='latin8'))"
   ]
  },
  {
   "cell_type": "code",
   "execution_count": 54,
   "metadata": {
    "collapsed": false
   },
   "outputs": [],
   "source": [
    "data = pd.concat(dfs)"
   ]
  },
  {
   "cell_type": "code",
   "execution_count": 72,
   "metadata": {
    "collapsed": false
   },
   "outputs": [],
   "source": [
    "for col in data.columns:\n",
    "    if data[col].isnull().mean() > 0.95:\n",
    "        del data[col]"
   ]
  },
  {
   "cell_type": "code",
   "execution_count": 77,
   "metadata": {
    "collapsed": false
   },
   "outputs": [],
   "source": [
    "data_short = data[['eid', 'filename', 'class-mark', 'sort-class-mark']]"
   ]
  },
  {
   "cell_type": "code",
   "execution_count": 80,
   "metadata": {
    "collapsed": false
   },
   "outputs": [
    {
     "name": "stderr",
     "output_type": "stream",
     "text": [
      "/usr/local/lib/python3.5/dist-packages/pandas/util/decorators.py:91: SettingWithCopyWarning: \n",
      "A value is trying to be set on a copy of a slice from a DataFrame\n",
      "\n",
      "See the caveats in the documentation: http://pandas.pydata.org/pandas-docs/stable/indexing.html#indexing-view-versus-copy\n",
      "  return func(*args, **kwargs)\n"
     ]
    }
   ],
   "source": [
    "data_short.drop_duplicates(inplace=True)"
   ]
  },
  {
   "cell_type": "code",
   "execution_count": 88,
   "metadata": {
    "collapsed": false
   },
   "outputs": [
    {
     "name": "stdout",
     "output_type": "stream",
     "text": [
      "eid 37161 0\n",
      "filename 37710 0\n",
      "class-mark 37044 0\n",
      "sort-class-mark 37082 560\n"
     ]
    }
   ],
   "source": [
    "for col in data_short.columns:\n",
    "    print(col, data_short[col].nunique(), data_short[col].isnull().sum())\n",
    "    \n",
    "data_short = data_short[data_short.filename.notnull()]\n",
    "data_short.to_csv('file_identifiers.csv', index=False)"
   ]
  },
  {
   "cell_type": "code",
   "execution_count": 117,
   "metadata": {
    "collapsed": false
   },
   "outputs": [
    {
     "data": {
      "text/plain": [
       "1    36214\n",
       "2      998\n",
       "3      440\n",
       "4       52\n",
       "5        6\n",
       "Name: eid, dtype: int64"
      ]
     },
     "execution_count": 117,
     "metadata": {},
     "output_type": "execute_result"
    }
   ],
   "source": [
    "data_short.groupby('filename').count().eid.value_counts()"
   ]
  },
  {
   "cell_type": "code",
   "execution_count": 131,
   "metadata": {
    "collapsed": true
   },
   "outputs": [],
   "source": [
    "final_data = []\n",
    "\n",
    "for name, group in data_short.groupby('filename'):\n",
    "    if len(group) == 1:\n",
    "        final_data.append(group.values.tolist()[0])\n",
    "    \n",
    "    eid = set(group.eid.dropna().values)\n",
    "    class_mark = set(group['class-mark'].dropna().values)\n",
    "    sort_class_mark = set(group['sort-class-mark'].dropna().values)\n",
    "\n",
    "    if len(eid) > 1 or len(class_mark) > 1 or len(sort_class_mark) > 1:\n",
    "        \n",
    "        continue"
   ]
  },
  {
   "cell_type": "code",
   "execution_count": 135,
   "metadata": {
    "collapsed": false
   },
   "outputs": [],
   "source": [
    "with open('file_identifiers.csv', 'w') as f:\n",
    "    f.write('\\t'.join(['eid', 'filename', 'class_mark', 'sort_class_mark']) + '\\n')\n",
    "    \n",
    "    for row in final_data:\n",
    "        \n",
    "        f.write('\\t'.join([str(int(row[0]))] + row[1:]) + '\\n')"
   ]
  },
  {
   "cell_type": "code",
   "execution_count": 136,
   "metadata": {
    "collapsed": false
   },
   "outputs": [
    {
     "name": "stdout",
     "output_type": "stream",
     "text": [
      "eid\tfilename\tclass_mark\tsort_class_mark\r\n",
      "128555\tMS-DAR-00002-000-00001.jpg\tDAR 2: fc\tDAR 00002: 00000fc\r\n",
      "128556\tMS-DAR-00002-000-00002.jpg\tDAR 2: ifc\tDAR 00002: 00000ifc\r\n",
      "108865\tMS-DAR-00002-000-00197 1.jpg\tDAR 2: 75[3]_a\tDAR 00002: 00075 00003A\r\n",
      "108869\tMS-DAR-00002-000-00205 1.jpg\tDAR 2: 77[2]_a\tDAR 00002: 00077 00002A\r\n",
      "128557\tMS-DAR-00002-000-00563.jpg\tDAR 2: ibc\tDAR 00002: 00999ibc\r\n",
      "128558\tMS-DAR-00002-000-00564.jpg\tDAR 2: bc\tDAR 00002: 00999z_bc\r\n",
      "128559\tMS-DAR-00002-000-00565.jpg\tDAR 2: sp\tDAR 00002: 00999z_sp\r\n",
      "128273\tMS-DAR-00003-000-00001.jpg\tDAR 3: fc\tDAR 00003: 00000fc\r\n",
      "128274\tMS-DAR-00003-000-00002.jpg\tDAR 3: ifc\tDAR 00003: 00000ifc\r\n"
     ]
    }
   ],
   "source": [
    "!head file_identifiers.csv"
   ]
  },
  {
   "cell_type": "markdown",
   "metadata": {},
   "source": [
    "Relates the image \"filename\" to the \"eid\" (useful for finding the images at their URLS), \"class_mark\" (useful for relating the images to the text transcript) and to \"sort_class_mark\" (which might be useful!). NOTE: Strip your filenames before searching! Some filenames have leading spaces (yes, actually) as the spaces are not included here."
   ]
  },
  {
   "cell_type": "markdown",
   "metadata": {},
   "source": [
    "# Let's find some reverse things"
   ]
  },
  {
   "cell_type": "code",
   "execution_count": 141,
   "metadata": {
    "collapsed": false
   },
   "outputs": [],
   "source": [
    "data = pd.read_csv('file_identifiers.csv', encoding='latin8', sep='\\t')"
   ]
  },
  {
   "cell_type": "code",
   "execution_count": 147,
   "metadata": {
    "collapsed": false
   },
   "outputs": [
    {
     "data": {
      "text/plain": [
       "0.47525818744132103"
      ]
     },
     "execution_count": 147,
     "metadata": {},
     "output_type": "execute_result"
    }
   ],
   "source": [
    "data.sort_class_mark.str.lower().str.endswith('v').mean()"
   ]
  },
  {
   "cell_type": "code",
   "execution_count": 148,
   "metadata": {
    "collapsed": false
   },
   "outputs": [
    {
     "data": {
      "text/plain": [
       "0.48125034517037607"
      ]
     },
     "execution_count": 148,
     "metadata": {},
     "output_type": "execute_result"
    }
   ],
   "source": [
    "data.sort_class_mark.str.lower().str.endswith('r').mean()"
   ]
  },
  {
   "cell_type": "code",
   "execution_count": 149,
   "metadata": {
    "collapsed": false
   },
   "outputs": [
    {
     "data": {
      "text/plain": [
       "Counter({\"'\": 4,\n",
       "         '0': 62,\n",
       "         '1': 115,\n",
       "         '2': 114,\n",
       "         '3': 68,\n",
       "         '4': 62,\n",
       "         '5': 54,\n",
       "         '6': 59,\n",
       "         '7': 64,\n",
       "         '8': 68,\n",
       "         '9': 64,\n",
       "         'a': 64,\n",
       "         'b': 66,\n",
       "         'c': 426,\n",
       "         'd': 47,\n",
       "         'e': 43,\n",
       "         'f': 45,\n",
       "         'g': 6,\n",
       "         'h': 6,\n",
       "         'i': 2,\n",
       "         'j': 2,\n",
       "         'k': 1,\n",
       "         'l': 12,\n",
       "         'n': 4,\n",
       "         'p': 90,\n",
       "         'r': 17428,\n",
       "         't': 11,\n",
       "         'u': 1,\n",
       "         'v': 17211,\n",
       "         'x': 15})"
      ]
     },
     "execution_count": 149,
     "metadata": {},
     "output_type": "execute_result"
    }
   ],
   "source": [
    "from collections import Counter\n",
    "Counter(v[-1] for v in data.sort_class_mark.str.lower().values)"
   ]
  },
  {
   "cell_type": "code",
   "execution_count": 162,
   "metadata": {
    "collapsed": false
   },
   "outputs": [
    {
     "data": {
      "text/plain": [
       "29633"
      ]
     },
     "execution_count": 162,
     "metadata": {},
     "output_type": "execute_result"
    }
   ],
   "source": [
    "len(set(data.filename.str.lower().values).intersection(image_names))#/len(image_names)"
   ]
  },
  {
   "cell_type": "code",
   "execution_count": null,
   "metadata": {
    "collapsed": true
   },
   "outputs": [],
   "source": []
  }
 ],
 "metadata": {
  "kernelspec": {
   "display_name": "Python 3",
   "language": "python",
   "name": "python3"
  },
  "language_info": {
   "codemirror_mode": {
    "name": "ipython",
    "version": 3
   },
   "file_extension": ".py",
   "mimetype": "text/x-python",
   "name": "python",
   "nbconvert_exporter": "python",
   "pygments_lexer": "ipython3",
   "version": "3.5.2"
  }
 },
 "nbformat": 4,
 "nbformat_minor": 1
}
