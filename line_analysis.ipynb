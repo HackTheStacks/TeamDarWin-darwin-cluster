{
 "cells": [
  {
   "cell_type": "markdown",
   "metadata": {},
   "source": [
    "Process edges for testing:\n",
    "- Take in line data from Luis' team\n",
    "- Translate and rotate\n",
    "\n",
    "Tests in scope:\n",
    "- Smoothed inflection point detection\n",
    "- Downsampling + direct vector comparison\n",
    "-"
   ]
  },
  {
   "cell_type": "markdown",
   "metadata": {},
   "source": [
    "Set up basic test data:"
   ]
  },
  {
   "cell_type": "code",
   "execution_count": 94,
   "metadata": {
    "collapsed": false,
    "scrolled": true
   },
   "outputs": [
    {
     "data": {
      "text/plain": [
       "<matplotlib.collections.PathCollection at 0x11c3bb908>"
      ]
     },
     "execution_count": 94,
     "metadata": {},
     "output_type": "execute_result"
    },
    {
     "data": {
      "image/png": "[encoded data removed]",
      "text/plain": [
       "<matplotlib.figure.Figure at 0x11bdcc0b8>"
      ]
     },
     "metadata": {},
     "output_type": "display_data"
    }
   ],
   "source": [
    "import numpy as np\n",
    "import matplotlib.pyplot as plt\n",
    "import seaborn as sns\n",
    "%matplotlib inline\n",
    "\n",
    "SMOOTHING_FACTOR = 30\n",
    "\n",
    "X = np.arange(0,10,0.01)+0.34\n",
    "Y = np.sin(X) + 0.1 * np.sin(X**2+3) + 1\n",
    "testdata = np.array([X,Y]).T\n",
    "plt.scatter(testdata[:,0],testdata[:,1], s=1)"
   ]
  },
  {
   "cell_type": "code",
   "execution_count": 105,
   "metadata": {
    "collapsed": false,
    "scrolled": true
   },
   "outputs": [],
   "source": [
    "def axis_align(inputdata):\n",
    "    # Translate leftermost point to the origin\n",
    "    translateddata = inputdata - inputdata[0]\n",
    "    \n",
    "    # Find an assumed \"straight edge\" line: \n",
    "    # straight line between first and last points\n",
    "    leftpoint = translateddata[0]\n",
    "    rightpoint = translateddata[-1]\n",
    "    slope = (rightpoint[1] - leftpoint[1]) / (rightpoint[0] - leftpoint[0])\n",
    "    \n",
    "    # NOTE: can we get c,s more smartly?\n",
    "    theta = np.arctan(slope)\n",
    "    c, s = np.cos(theta), np.sin(theta)\n",
    "    rotationmatrix = np.matrix('{} {}; {} {}'.format(c, -s, s, c))\n",
    "    \n",
    "    newdata =  translateddata * rotationmatrix\n",
    "    # plt.scatter(newdata[:,0], newdata[:,1])\n",
    "    \n",
    "    scalefactor = newdata[-1,0]\n",
    "    #print(scalefactor)\n",
    "    newdata[:,0] = newdata[:,0] / scalefactor\n",
    "    \n",
    "    return newdata\n",
    "    \n",
    "aligned_data = axis_align(testdata)"
   ]
  },
  {
   "cell_type": "markdown",
   "metadata": {},
   "source": [
    "We have processed lines.\n",
    "\n",
    "Find locations of juts by smoothing locally (keep as variable smoothing parameter for now)"
   ]
  },
  {
   "cell_type": "code",
   "execution_count": 96,
   "metadata": {
    "collapsed": false
   },
   "outputs": [
    {
     "name": "stdout",
     "output_type": "stream",
     "text": [
      "[ 0.15423938  0.43085204  0.4715077   0.47787571  0.73769031]\n"
     ]
    },
    {
     "data": {
      "text/plain": [
       "<matplotlib.collections.PathCollection at 0x11c87ba58>"
      ]
     },
     "execution_count": 96,
     "metadata": {},
     "output_type": "execute_result"
    },
    {
     "data": {
      "image/png": "[encoded data removed]",
      "text/plain": [
       "<matplotlib.figure.Figure at 0x11c2a3748>"
      ]
     },
     "metadata": {},
     "output_type": "display_data"
    }
   ],
   "source": [
    "def _kernel_smoother(linedata, pointref, d):\n",
    "    # Return the smoothed value of f(linedata[pointref])\n",
    "    \n",
    "    # Kernel average smoother: take the d nearest points on either side and use their f values\n",
    "    # as a weighted average for f(x).\n",
    "    leftlim = max(0, pointref - d)\n",
    "    rightlim = min(len(linedata), pointref + d)\n",
    "\n",
    "    weightwindow = np.concatenate( [np.array([(i+1) for i in range(pointref-leftlim)]),\n",
    "                                   np.array([(d-i) for i in range(rightlim-pointref)])])\n",
    "    weightwindow = weightwindow / np.sum(weightwindow)\n",
    "    \n",
    "    #print(np.sum(weightwindow)\n",
    "    vals = linedata[leftlim: rightlim][:,1]\n",
    "    #print(vals.shape, weightwindow.shape)\n",
    "    #print(vals)\n",
    "    fx = np.sum(np.multiply(np.squeeze(vals), weightwindow))\n",
    "    #print(fx)\n",
    "    return fx\n",
    "\n",
    "def smooth(linedata):\n",
    "    Xsmooth = np.array(linedata[:,0]).flatten()\n",
    "    Ysmooth = [_kernel_smoother(linedata, i, SMOOTHING_FACTOR) for i in range(len(linedata))]\n",
    "    testdata = np.array([Xsmooth, Ysmooth]).T\n",
    "    return testdata\n",
    "\n",
    "def inflection_anal(linedata):\n",
    "    smoothed = smooth(linedata)\n",
    "    gradients = np.gradient(smoothed[:,1])\n",
    "\n",
    "    inflectionmask = [(gradients[i] * gradients[i+1] <= 0) for i in range(len(gradients)-1)]\n",
    "    \n",
    "    inflectionrefs = [i for i in range(len(inflectionmask)) if inflectionmask[i]]\n",
    "    inflectionpoints = smoothed[inflectionrefs,0]\n",
    "    \n",
    "    return inflectionrefs, inflectionpoints\n",
    "\n",
    "smoothed_data = smooth(aligned_data)\n",
    "inflectionrefs, inflectionpoints = inflection_anal(aligned_data)\n",
    "print(inflectionpoints)\n",
    "plt.scatter(smoothed_data[:,0], smoothed_data[:,1], s=1)\n",
    "plt.scatter(inflectionpoints,[0]*len(inflectionpoints), color='r')\n"
   ]
  },
  {
   "cell_type": "code",
   "execution_count": 97,
   "metadata": {
    "collapsed": false
   },
   "outputs": [
    {
     "data": {
      "text/plain": [
       "0.63354434472063337"
      ]
     },
     "execution_count": 97,
     "metadata": {},
     "output_type": "execute_result"
    }
   ],
   "source": [
    "def msdev(linedata):\n",
    "    total = np.multiply(linedata[:,1], linedata[:,1])\n",
    "    return np.sum(total)/len(linedata)\n",
    "\n",
    "msdev(aligned_data)\n"
   ]
  },
  {
   "cell_type": "code",
   "execution_count": 98,
   "metadata": {
    "collapsed": false,
    "scrolled": true
   },
   "outputs": [
    {
     "name": "stdout",
     "output_type": "stream",
     "text": [
      "(3792, 2)\n",
      "3601.99944475\n"
     ]
    },
    {
     "data": {
      "text/plain": [
       "<matplotlib.collections.PathCollection at 0x11c223128>"
      ]
     },
     "execution_count": 98,
     "metadata": {},
     "output_type": "execute_result"
    },
    {
     "data": {
      "image/png": "[encoded data removed]",
      "text/plain": [
       "<matplotlib.figure.Figure at 0x11bf35dd8>"
      ]
     },
     "metadata": {},
     "output_type": "display_data"
    }
   ],
   "source": [
    "inputcsv = np.genfromtxt('sample_csv/74584_MS-DAR-00125-000-00073_north.csv', delimiter=',')\n",
    "inputcsv = inputcsv[1:,(1,2)]\n",
    "print(inputcsv.shape)\n",
    "\n",
    "inputcsv.sort(0)\n",
    "\n",
    "aligned_data = axis_align(inputcsv)\n",
    "\n",
    "#plt.scatter(inputcsv[:,0],inputcsv[:,1])\n",
    "plt.scatter(aligned_data[:,0], aligned_data[:,1])"
   ]
  },
  {
   "cell_type": "code",
   "execution_count": 99,
   "metadata": {
    "collapsed": false
   },
   "outputs": [
    {
     "data": {
      "text/plain": [
       "465.70302929059147"
      ]
     },
     "execution_count": 99,
     "metadata": {},
     "output_type": "execute_result"
    }
   ],
   "source": [
    "msdev(aligned_data)"
   ]
  },
  {
   "cell_type": "code",
   "execution_count": 100,
   "metadata": {
    "collapsed": true
   },
   "outputs": [],
   "source": [
    "def get_aligneddata(filename):\n",
    "    inputcsv = np.genfromtxt(filename, delimiter=',')\n",
    "    inputcsv = inputcsv[1:,(1,2)]\n",
    "    inputcsv.sort(0)\n",
    "    aligned_data = axis_align(inputcsv)\n",
    "    return aligned_data\n",
    "\n",
    "def get_msdev(filename):\n",
    "    return msdev(aligned_data)"
   ]
  },
  {
   "cell_type": "code",
   "execution_count": 101,
   "metadata": {
    "collapsed": false
   },
   "outputs": [
    {
     "name": "stdout",
     "output_type": "stream",
     "text": [
      "3601.99944475\n",
      "sample_csv/74584_MS-DAR-00125-000-00073_north.csv 465.703029291\n",
      "3600.17013487\n",
      "sample_csv/74584_MS-DAR-00125-000-00073_south.csv 6.8097390376\n",
      "1084.17895202\n",
      "sample_csv/74584_MS-DAR-00125-000-00073_west.csv 3408.17920444\n",
      "3530.0239376\n",
      "sample_csv/76748_MS-DAR-00053-00001-000-00118_north.csv 3.19860339829\n",
      "3402.92242051\n",
      "sample_csv/76748_MS-DAR-00053-00001-000-00118_south.csv 528.912322452\n",
      "868.5\n",
      "sample_csv/76748_MS-DAR-00053-00001-000-00118_west.csv 0.0\n",
      "4000.06049954\n",
      "sample_csv/77726_MS-DAR-00205-00001-000-00096_north.csv 1.96121793027\n",
      "4013.50731904\n",
      "sample_csv/77726_MS-DAR-00205-00001-000-00096_south.csv 9820.61101075\n"
     ]
    }
   ],
   "source": [
    "import os \n",
    "\n",
    "for i in os.listdir(\"sample_csv\"):\n",
    "    name = \"sample_csv/\" + i\n",
    "    print(name, msdev(get_aligneddata(name)))"
   ]
  },
  {
   "cell_type": "code",
   "execution_count": 106,
   "metadata": {
    "collapsed": false
   },
   "outputs": [
    {
     "name": "stdout",
     "output_type": "stream",
     "text": [
      "3792 3699\n"
     ]
    },
    {
     "data": {
      "image/png": "[encoded data removed]",
      "text/plain": [
       "<matplotlib.figure.Figure at 0x11c2228d0>"
      ]
     },
     "metadata": {},
     "output_type": "display_data"
    }
   ],
   "source": [
    "al1 = get_aligneddata(\"sample_csv/74584_MS-DAR-00125-000-00073_north.csv\")\n",
    "plt.scatter(al1[:,0], al1[:,1], s=0.1)\n",
    "\n",
    "al2 = get_aligneddata(\"sample_csv/76748_MS-DAR-00053-00001-000-00118_south.csv\")\n",
    "plt.scatter(al2[:,0], al2[:,1], s=0.1, c='r')\n",
    "\n",
    "print(len(al1), len(al2))"
   ]
  },
  {
   "cell_type": "code",
   "execution_count": 109,
   "metadata": {
    "collapsed": false
   },
   "outputs": [
    {
     "data": {
      "text/plain": [
       "array([[  0.00000000e+00,   0.00000000e+00],\n",
       "       [  1.00000000e-03,   9.76139966e-03],\n",
       "       [  2.00000000e-03,   1.94687460e-02],\n",
       "       ..., \n",
       "       [  9.97000000e-01,   4.68747817e-02],\n",
       "       [  9.99000000e-01,   2.43313841e-02],\n",
       "       [  1.00000000e+00,  -6.99594766e-17]])"
      ]
     },
     "execution_count": 109,
     "metadata": {},
     "output_type": "execute_result"
    }
   ],
   "source": [
    "def sample_points(linedata):\n",
    "    # Force point data into 1000 data points\n",
    "    # Assumes x-values are mapped to [0,1]\n",
    "    NUM_DEC_PLACES = 3\n",
    "    def forceX(p):\n",
    "        return (np.round(p[0], NUM_DEC_PLACES), p[1])\n",
    "    \n",
    "    \n",
    "    \n",
    "    def averageY(p):\n",
    "        return \n",
    "    linedata = np.apply_along_axis(forceX, 1, linedata)\n",
    "    return linedata\n",
    "\n",
    "sample_points(aligned_data)"
   ]
  },
  {
   "cell_type": "code",
   "execution_count": null,
   "metadata": {
    "collapsed": true
   },
   "outputs": [],
   "source": []
  }
 ],
 "metadata": {
  "kernelspec": {
   "display_name": "Python 3",
   "language": "python",
   "name": "python3"
  },
  "language_info": {
   "codemirror_mode": {
    "name": "ipython",
    "version": 3
   },
   "file_extension": ".py",
   "mimetype": "text/x-python",
   "name": "python",
   "nbconvert_exporter": "python",
   "pygments_lexer": "ipython3",
   "version": "3.5.2"
  }
 },
 "nbformat": 4,
 "nbformat_minor": 0
}
