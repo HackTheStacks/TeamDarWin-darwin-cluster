{
 "cells": [
  {
   "cell_type": "markdown",
   "metadata": {},
   "source": [
    "Make some test data"
   ]
  },
  {
   "cell_type": "code",
   "execution_count": 41,
   "metadata": {
    "collapsed": false
   },
   "outputs": [
    {
     "name": "stdout",
     "output_type": "stream",
     "text": [
      "(100, 2)\n"
     ]
    },
    {
     "data": {
      "text/plain": [
       "<matplotlib.collections.PathCollection at 0x11d31bb00>"
      ]
     },
     "execution_count": 41,
     "metadata": {},
     "output_type": "execute_result"
    },
    {
     "data": {
      "image/png": "[encoded data removed]",
      "text/plain": [
       "<matplotlib.figure.Figure at 0x11e117e48>"
      ]
     },
     "metadata": {},
     "output_type": "display_data"
    }
   ],
   "source": [
    "import numpy as np\n",
    "import matplotlib.pyplot as plt\n",
    "import seaborn as sns\n",
    "%matplotlib inline\n",
    "\n",
    "X = np.arange(0,10,0.1)+0.1\n",
    "Y = np.sin(X) + 1\n",
    "testdata = np.array([X,Y]).T\n",
    "print(testdata.shape)\n",
    "\n",
    "plt.scatter(testdata[:,0],testdata[:,1])"
   ]
  },
  {
   "cell_type": "code",
   "execution_count": 56,
   "metadata": {
    "collapsed": false
   },
   "outputs": [
    {
     "data": {
      "image/png": "[encoded data removed]",
      "text/plain": [
       "<matplotlib.figure.Figure at 0x11e34da90>"
      ]
     },
     "metadata": {},
     "output_type": "display_data"
    }
   ],
   "source": [
    "def axis_align(inputdata):\n",
    "    # Translate leftermost point to the origin\n",
    "    translateddata = inputdata - inputdata[0]\n",
    "    \n",
    "    # Find an assumed \"straight edge\" line: \n",
    "    # straight line between first and last points\n",
    "    leftpoint = translateddata[0]\n",
    "    rightpoint = translateddata[-1]\n",
    "    slope = (rightpoint[1] - leftpoint[1]) / (rightpoint[0] - leftpoint[0])\n",
    "    \n",
    "    # NOTE: can we get c,s more smartly?\n",
    "    theta = np.arctan(slope)\n",
    "    c, s = np.cos(theta), np.sin(theta)\n",
    "    rotationmatrix = np.matrix('{} {}; {} {}'.format(c, -s, s, c))\n",
    "    \n",
    "    newdata =  translateddata * rotationmatrix\n",
    "    plt.scatter(newdata[:,0], newdata[:,1])\n",
    "    \n",
    "    return newdata\n",
    "    \n",
    "aligned_data = axis_align(testdata)"
   ]
  },
  {
   "cell_type": "code",
   "execution_count": null,
   "metadata": {
    "collapsed": true
   },
   "outputs": [],
   "source": []
  }
 ],
 "metadata": {
  "kernelspec": {
   "display_name": "Python 3",
   "language": "python",
   "name": "python3"
  },
  "language_info": {
   "codemirror_mode": {
    "name": "ipython",
    "version": 3
   },
   "file_extension": ".py",
   "mimetype": "text/x-python",
   "name": "python",
   "nbconvert_exporter": "python",
   "pygments_lexer": "ipython3",
   "version": "3.5.2"
  }
 },
 "nbformat": 4,
 "nbformat_minor": 0
}
